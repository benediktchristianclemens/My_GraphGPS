{
 "cells": [
  {
   "cell_type": "code",
   "execution_count": 6,
   "metadata": {},
   "outputs": [],
   "source": [
    "# Use SAGEConc_new kernel"
   ]
  },
  {
   "cell_type": "code",
   "execution_count": 15,
   "metadata": {},
   "outputs": [
    {
     "ename": "ModuleNotFoundError",
     "evalue": "No module named 'my_graphgps'",
     "output_type": "error",
     "traceback": [
      "\u001b[0;31m---------------------------------------------------------------------------\u001b[0m",
      "\u001b[0;31mModuleNotFoundError\u001b[0m                       Traceback (most recent call last)",
      "Cell \u001b[0;32mIn[15], line 1\u001b[0m\n\u001b[0;32m----> 1\u001b[0m \u001b[38;5;28;01mfrom\u001b[39;00m \u001b[38;5;21;01mmy_graphgps\u001b[39;00m\u001b[38;5;21;01m.\u001b[39;00m\u001b[38;5;21;01mdata\u001b[39;00m\u001b[38;5;21;01m.\u001b[39;00m\u001b[38;5;21;01mcreate_cell_to_cell_graph\u001b[39;00m \u001b[38;5;28;01mimport\u001b[39;00m create_sc_data, create_pyg_data_from_adata\n",
      "\u001b[0;31mModuleNotFoundError\u001b[0m: No module named 'my_graphgps'"
     ]
    }
   ],
   "source": [
    "from my_graphgps.data.create_cell_to_cell_graph import create_sc_data, create_pyg_data_from_adata"
   ]
  },
  {
   "cell_type": "code",
   "execution_count": 9,
   "metadata": {},
   "outputs": [
    {
     "name": "stdout",
     "output_type": "stream",
     "text": [
      "\n",
      "Note: you may need to restart the kernel to use updated packages.\n"
     ]
    }
   ],
   "source": [
    "%conda list --export > requirements.txt"
   ]
  },
  {
   "cell_type": "code",
   "execution_count": 28,
   "metadata": {},
   "outputs": [
    {
     "name": "stdout",
     "output_type": "stream",
     "text": [
      "Python 3.10.15\n"
     ]
    }
   ],
   "source": [
    "!python --version"
   ]
  },
  {
   "cell_type": "code",
   "execution_count": null,
   "metadata": {},
   "outputs": [
    {
     "name": "stderr",
     "output_type": "stream",
     "text": [
      "2024-11-28 18:11:52,239 - INFO - Step 1: Importing PBMC data...\n",
      "2024-11-28 18:11:54,129 - INFO - Data imported with shape: (2700, 50)\n",
      "2024-11-28 18:11:54,129 - INFO - Step 2: Creating PyG Data object...\n"
     ]
    },
    {
     "name": "stdout",
     "output_type": "stream",
     "text": [
      "Optimized resolution: 1.00 with 12 clusters.\n",
      "Network enhancement converged after 20 iterations.\n"
     ]
    },
    {
     "name": "stderr",
     "output_type": "stream",
     "text": [
      "2024-11-28 18:12:04,125 - INFO - PyG Data object created with 2700 nodes and 50 features.\n",
      "2024-11-28 18:12:04,126 - INFO - Step 3: Adding encodings to the data...\n",
      "2024-11-28 18:12:06,529 - INFO - Encodings added. Data variants created.\n",
      "2024-11-28 18:12:06,531 - INFO - Step 4: Splitting data into train, validation, and test sets...\n",
      "2024-11-28 18:12:06,535 - INFO - Data splitting completed.\n",
      "2024-11-28 18:12:06,535 - INFO - Dataset 'data':\n",
      "2024-11-28 18:12:06,536 - INFO - Train nodes: 1889, Validation nodes: 405, Test nodes: 406\n",
      "2024-11-28 18:12:06,536 - INFO - Dataset 'data_rwse':\n",
      "2024-11-28 18:12:06,538 - INFO - Train nodes: 1889, Validation nodes: 405, Test nodes: 406\n",
      "2024-11-28 18:12:06,538 - INFO - Dataset 'data_and_encodings':\n",
      "2024-11-28 18:12:06,539 - INFO - Train nodes: 1889, Validation nodes: 405, Test nodes: 406\n",
      "2024-11-28 18:12:06,540 - INFO - Hyperparameter grid defined.\n",
      "Processing Datasets:   0%|          | 0/3 [00:00<?, ?dataset/s]2024-11-28 18:12:06,543 - INFO - === Processing Dataset: data ===\n",
      "2024-11-28 18:12:06,545 - INFO - Number of features: 69\n",
      "2024-11-28 18:12:06,545 - INFO - Number of classes: 12\n",
      "2024-11-28 18:12:06,546 - INFO - Step 7: Starting hyperparameter tuning...\n"
     ]
    },
    {
     "name": "stdout",
     "output_type": "stream",
     "text": [
      "Evaluating parameters: (32, 4, 0.5, 0.001, 150)\n"
     ]
    },
    {
     "name": "stderr",
     "output_type": "stream",
     "text": [
      "/home/benedikt_c/miniconda3/envs/SAGEConv_new/lib/python3.10/site-packages/torch/nn/modules/activation.py:1160: UserWarning: Converting mask without torch.bool dtype to bool; this will negatively affect performance. Prefer to use a boolean mask directly. (Triggered internally at ../aten/src/ATen/native/transformers/attention.cpp:150.)\n",
      "  return torch._native_multi_head_attention(\n"
     ]
    },
    {
     "name": "stdout",
     "output_type": "stream",
     "text": [
      "Epoch 000, Loss: 2.5252, Train Acc: 0.0529, Val Acc: 0.0593\n",
      "Epoch 010, Loss: 1.9228, Train Acc: 0.5453, Val Acc: 0.5383\n",
      "Epoch 020, Loss: 1.6084, Train Acc: 0.5484, Val Acc: 0.5333\n",
      "Epoch 030, Loss: 1.3967, Train Acc: 0.5670, Val Acc: 0.5531\n",
      "Epoch 040, Loss: 1.2500, Train Acc: 0.6649, Val Acc: 0.6716\n",
      "Epoch 050, Loss: 1.1180, Train Acc: 0.7020, Val Acc: 0.6988\n",
      "Epoch 060, Loss: 1.0028, Train Acc: 0.7369, Val Acc: 0.7358\n",
      "Epoch 070, Loss: 0.8886, Train Acc: 0.7708, Val Acc: 0.7753\n",
      "Epoch 080, Loss: 0.7878, Train Acc: 0.8062, Val Acc: 0.8321\n",
      "Epoch 090, Loss: 0.7084, Train Acc: 0.8491, Val Acc: 0.8593\n",
      "Epoch 100, Loss: 0.6237, Train Acc: 0.8639, Val Acc: 0.8741\n",
      "Epoch 110, Loss: 0.5563, Train Acc: 0.8788, Val Acc: 0.8815\n",
      "Epoch 120, Loss: 0.4843, Train Acc: 0.9116, Val Acc: 0.9062\n",
      "Epoch 130, Loss: 0.4187, Train Acc: 0.9333, Val Acc: 0.9136\n",
      "Epoch 140, Loss: 0.3543, Train Acc: 0.9391, Val Acc: 0.9086\n",
      "Test Accuracy: 0.9138\n",
      "Evaluating parameters: (32, 2, 0.2, 0.1, 50)\n",
      "Epoch 000, Loss: 2.4515, Train Acc: 0.1249, Val Acc: 0.1457\n",
      "Epoch 010, Loss: 2.0299, Train Acc: 0.2875, Val Acc: 0.3481\n",
      "Epoch 020, Loss: 1.8766, Train Acc: 0.2933, Val Acc: 0.3481\n",
      "Epoch 030, Loss: 1.8301, Train Acc: 0.3033, Val Acc: 0.3481\n",
      "Epoch 040, Loss: 1.8213, Train Acc: 0.3033, Val Acc: 0.3506\n",
      "Test Accuracy: 0.3719\n",
      "Evaluating parameters: (64, 2, 0.5, 0.1, 150)\n",
      "Epoch 000, Loss: 2.6073, Train Acc: 0.1001, Val Acc: 0.0864\n",
      "Epoch 010, Loss: 2.1373, Train Acc: 0.1350, Val Acc: 0.1284\n",
      "Epoch 020, Loss: 2.0258, Train Acc: 0.1535, Val Acc: 0.1901\n",
      "Epoch 030, Loss: 1.8664, Train Acc: 0.2552, Val Acc: 0.3160\n",
      "Epoch 040, Loss: 1.8489, Train Acc: 0.2425, Val Acc: 0.2667\n",
      "Epoch 050, Loss: 1.8253, Train Acc: 0.2356, Val Acc: 0.2222\n",
      "Epoch 060, Loss: 1.8480, Train Acc: 0.2912, Val Acc: 0.2667\n",
      "Epoch 070, Loss: 2.0725, Train Acc: 0.1350, Val Acc: 0.1284\n",
      "Epoch 080, Loss: 2.0233, Train Acc: 0.3033, Val Acc: 0.2716\n",
      "Epoch 090, Loss: 1.8672, Train Acc: 0.2483, Val Acc: 0.2617\n",
      "Epoch 100, Loss: 1.8518, Train Acc: 0.1779, Val Acc: 0.1926\n",
      "Epoch 110, Loss: 1.8142, Train Acc: 0.2493, Val Acc: 0.2617\n",
      "Epoch 120, Loss: 1.8205, Train Acc: 0.2499, Val Acc: 0.2617\n",
      "Epoch 130, Loss: 1.8419, Train Acc: 0.2403, Val Acc: 0.2543\n",
      "Epoch 140, Loss: 1.8528, Train Acc: 0.1800, Val Acc: 0.1975\n",
      "Test Accuracy: 0.3030\n",
      "Evaluating parameters: (64, 2, 0.2, 0.1, 200)\n",
      "Epoch 000, Loss: 2.6225, Train Acc: 0.1810, Val Acc: 0.2148\n",
      "Epoch 010, Loss: 2.0670, Train Acc: 0.0683, Val Acc: 0.0667\n",
      "Epoch 020, Loss: 1.8947, Train Acc: 0.1329, Val Acc: 0.1531\n",
      "Epoch 030, Loss: 1.8429, Train Acc: 0.3065, Val Acc: 0.3235\n",
      "Epoch 040, Loss: 1.8264, Train Acc: 0.2991, Val Acc: 0.3605\n",
      "Epoch 050, Loss: 1.8177, Train Acc: 0.2991, Val Acc: 0.3605\n",
      "Epoch 060, Loss: 1.8422, Train Acc: 0.2980, Val Acc: 0.3605\n",
      "Epoch 070, Loss: 1.8564, Train Acc: 0.2980, Val Acc: 0.3605\n",
      "Epoch 080, Loss: 1.8626, Train Acc: 0.2980, Val Acc: 0.3605\n",
      "Epoch 090, Loss: 1.8620, Train Acc: 0.2980, Val Acc: 0.3605\n",
      "Epoch 100, Loss: 1.8662, Train Acc: 0.3060, Val Acc: 0.3235\n",
      "Epoch 110, Loss: 1.8617, Train Acc: 0.3060, Val Acc: 0.3235\n",
      "Epoch 120, Loss: 1.8613, Train Acc: 0.2980, Val Acc: 0.3605\n",
      "Epoch 130, Loss: 1.8576, Train Acc: 0.2980, Val Acc: 0.3605\n",
      "Epoch 140, Loss: 1.8576, Train Acc: 0.2980, Val Acc: 0.3605\n",
      "Epoch 150, Loss: 1.8571, Train Acc: 0.2980, Val Acc: 0.3605\n",
      "Epoch 160, Loss: 1.8542, Train Acc: 0.2980, Val Acc: 0.3605\n",
      "Epoch 170, Loss: 1.8599, Train Acc: 0.2980, Val Acc: 0.3605\n",
      "Epoch 180, Loss: 1.8601, Train Acc: 0.2980, Val Acc: 0.3605\n",
      "Epoch 190, Loss: 1.8548, Train Acc: 0.2980, Val Acc: 0.3605\n",
      "Test Accuracy: 0.3374\n",
      "Evaluating parameters: (64, 2, 0.2, 0.01, 50)\n",
      "Epoch 000, Loss: 2.5526, Train Acc: 0.1747, Val Acc: 0.1580\n",
      "Epoch 010, Loss: 1.4202, Train Acc: 0.5310, Val Acc: 0.5457\n",
      "Epoch 020, Loss: 1.3376, Train Acc: 0.5839, Val Acc: 0.6025\n",
      "Epoch 030, Loss: 1.4077, Train Acc: 0.6162, Val Acc: 0.5951\n",
      "Epoch 040, Loss: 1.2189, Train Acc: 0.5802, Val Acc: 0.6049\n",
      "Test Accuracy: 0.6724\n",
      "Evaluating parameters: (32, 4, 0.5, 0.1, 200)\n",
      "Epoch 000, Loss: 2.5214, Train Acc: 0.1308, Val Acc: 0.1531\n",
      "Epoch 010, Loss: 2.1835, Train Acc: 0.1885, Val Acc: 0.2222\n",
      "Epoch 020, Loss: 1.8886, Train Acc: 0.3113, Val Acc: 0.3160\n",
      "Epoch 030, Loss: 1.8224, Train Acc: 0.3049, Val Acc: 0.2914\n",
      "Epoch 040, Loss: 1.7727, Train Acc: 0.3134, Val Acc: 0.3259\n",
      "Epoch 050, Loss: 1.7602, Train Acc: 0.3086, Val Acc: 0.3383\n",
      "Epoch 060, Loss: 1.7808, Train Acc: 0.3092, Val Acc: 0.2914\n",
      "Epoch 070, Loss: 1.7956, Train Acc: 0.3573, Val Acc: 0.3728\n",
      "Epoch 080, Loss: 1.8058, Train Acc: 0.3065, Val Acc: 0.2864\n",
      "Epoch 090, Loss: 1.8242, Train Acc: 0.3044, Val Acc: 0.2840\n",
      "Epoch 100, Loss: 1.7850, Train Acc: 0.3023, Val Acc: 0.2815\n",
      "Epoch 110, Loss: 1.8347, Train Acc: 0.2938, Val Acc: 0.2741\n",
      "Epoch 120, Loss: 1.8200, Train Acc: 0.2938, Val Acc: 0.2765\n",
      "Epoch 130, Loss: 1.8172, Train Acc: 0.2943, Val Acc: 0.2815\n",
      "Epoch 140, Loss: 1.8600, Train Acc: 0.2912, Val Acc: 0.2790\n",
      "Epoch 150, Loss: 1.8596, Train Acc: 0.2912, Val Acc: 0.2815\n",
      "Epoch 160, Loss: 1.8478, Train Acc: 0.2906, Val Acc: 0.2815\n",
      "Epoch 170, Loss: 1.8336, Train Acc: 0.1848, Val Acc: 0.1778\n",
      "Epoch 180, Loss: 1.8358, Train Acc: 0.1848, Val Acc: 0.1778\n",
      "Epoch 190, Loss: 1.8325, Train Acc: 0.1848, Val Acc: 0.1778\n",
      "Test Accuracy: 0.2808\n",
      "Evaluating parameters: (32, 4, 0.2, 0.1, 200)\n",
      "Epoch 000, Loss: 2.6867, Train Acc: 0.1181, Val Acc: 0.1185\n",
      "Epoch 010, Loss: 1.9626, Train Acc: 0.3145, Val Acc: 0.3432\n",
      "Epoch 020, Loss: 1.9724, Train Acc: 0.1599, Val Acc: 0.1580\n",
      "Epoch 030, Loss: 1.9311, Train Acc: 0.2165, Val Acc: 0.2321\n",
      "Epoch 040, Loss: 1.9078, Train Acc: 0.2610, Val Acc: 0.2765\n",
      "Epoch 050, Loss: 1.7483, Train Acc: 0.3298, Val Acc: 0.3407\n",
      "Epoch 060, Loss: 1.6544, Train Acc: 0.3896, Val Acc: 0.4173\n",
      "Epoch 070, Loss: 1.6201, Train Acc: 0.3902, Val Acc: 0.4148\n",
      "Epoch 080, Loss: 1.9799, Train Acc: 0.2530, Val Acc: 0.2840\n",
      "Epoch 090, Loss: 1.8626, Train Acc: 0.3055, Val Acc: 0.3704\n",
      "Epoch 100, Loss: 1.8066, Train Acc: 0.3473, Val Acc: 0.4099\n",
      "Epoch 110, Loss: 1.9531, Train Acc: 0.3176, Val Acc: 0.3235\n",
      "Epoch 120, Loss: 1.8357, Train Acc: 0.3499, Val Acc: 0.3654\n",
      "Epoch 130, Loss: 1.8060, Train Acc: 0.4272, Val Acc: 0.4198\n",
      "Epoch 140, Loss: 1.7231, Train Acc: 0.3833, Val Acc: 0.4173\n",
      "Epoch 150, Loss: 1.7142, Train Acc: 0.4193, Val Acc: 0.4148\n",
      "Epoch 160, Loss: 1.6984, Train Acc: 0.3849, Val Acc: 0.4173\n",
      "Epoch 170, Loss: 1.6669, Train Acc: 0.4092, Val Acc: 0.4049\n",
      "Epoch 180, Loss: 1.6649, Train Acc: 0.3007, Val Acc: 0.3062\n",
      "Epoch 190, Loss: 1.6476, Train Acc: 0.3859, Val Acc: 0.4148\n",
      "Test Accuracy: 0.2660\n",
      "Evaluating parameters: (128, 4, 0.5, 0.01, 150)\n",
      "Epoch 000, Loss: 2.5843, Train Acc: 0.1376, Val Acc: 0.1531\n",
      "Epoch 010, Loss: 1.2603, Train Acc: 0.4500, Val Acc: 0.4370\n",
      "Epoch 020, Loss: 1.2418, Train Acc: 0.4632, Val Acc: 0.4593\n",
      "Epoch 030, Loss: 1.1355, Train Acc: 0.5183, Val Acc: 0.5728\n",
      "Epoch 040, Loss: 1.1812, Train Acc: 0.5172, Val Acc: 0.5630\n",
      "Epoch 050, Loss: 1.3837, Train Acc: 0.3690, Val Acc: 0.4198\n",
      "Epoch 060, Loss: 1.2032, Train Acc: 0.4711, Val Acc: 0.4815\n",
      "Epoch 070, Loss: 1.1476, Train Acc: 0.4801, Val Acc: 0.4617\n",
      "Epoch 080, Loss: 1.2097, Train Acc: 0.4696, Val Acc: 0.4247\n",
      "Epoch 090, Loss: 1.1692, Train Acc: 0.5310, Val Acc: 0.5605\n",
      "Epoch 100, Loss: 1.1865, Train Acc: 0.5199, Val Acc: 0.5827\n",
      "Epoch 110, Loss: 1.1634, Train Acc: 0.5024, Val Acc: 0.5506\n",
      "Epoch 120, Loss: 1.0898, Train Acc: 0.5140, Val Acc: 0.5210\n",
      "Epoch 130, Loss: 1.0268, Train Acc: 0.5389, Val Acc: 0.5309\n",
      "Epoch 140, Loss: 1.0254, Train Acc: 0.5347, Val Acc: 0.5358\n",
      "Test Accuracy: 0.5443\n",
      "Evaluating parameters: (32, 4, 0.2, 0.01, 150)\n",
      "Epoch 000, Loss: 2.4954, Train Acc: 0.1636, Val Acc: 0.1358\n",
      "Epoch 010, Loss: 0.8488, Train Acc: 0.8031, Val Acc: 0.8074\n",
      "Epoch 020, Loss: 0.5357, Train Acc: 0.8391, Val Acc: 0.8395\n",
      "Epoch 030, Loss: 0.4893, Train Acc: 0.8655, Val Acc: 0.8617\n",
      "Epoch 040, Loss: 0.4720, Train Acc: 0.8560, Val Acc: 0.8642\n",
      "Epoch 050, Loss: 0.3811, Train Acc: 0.8846, Val Acc: 0.8765\n",
      "Epoch 060, Loss: 0.2855, Train Acc: 0.8782, Val Acc: 0.8593\n",
      "Epoch 070, Loss: 0.2539, Train Acc: 0.9068, Val Acc: 0.8840\n",
      "Epoch 080, Loss: 0.1595, Train Acc: 0.9539, Val Acc: 0.9235\n",
      "Epoch 090, Loss: 0.1368, Train Acc: 0.9455, Val Acc: 0.9235\n",
      "Epoch 100, Loss: 0.0879, Train Acc: 0.9725, Val Acc: 0.9259\n",
      "Epoch 110, Loss: 0.0645, Train Acc: 0.9846, Val Acc: 0.9383\n",
      "Epoch 120, Loss: 0.0568, Train Acc: 0.9862, Val Acc: 0.9333\n",
      "Epoch 130, Loss: 0.0520, Train Acc: 0.9862, Val Acc: 0.9333\n",
      "Epoch 140, Loss: 0.0455, Train Acc: 0.9852, Val Acc: 0.9358\n",
      "Test Accuracy: 0.9606\n",
      "Evaluating parameters: (128, 8, 0.2, 0.1, 150)\n",
      "Epoch 000, Loss: 2.6494, Train Acc: 0.1382, Val Acc: 0.1309\n",
      "Epoch 010, Loss: 2.0289, Train Acc: 0.1398, Val Acc: 0.1309\n",
      "Epoch 020, Loss: 1.6283, Train Acc: 0.1599, Val Acc: 0.1531\n",
      "Epoch 030, Loss: 1.5341, Train Acc: 0.2515, Val Acc: 0.2691\n",
      "Epoch 040, Loss: 1.5079, Train Acc: 0.3483, Val Acc: 0.3383\n",
      "Epoch 050, Loss: 1.4552, Train Acc: 0.3298, Val Acc: 0.3333\n",
      "Epoch 060, Loss: 1.4108, Train Acc: 0.4526, Val Acc: 0.4963\n",
      "Epoch 070, Loss: 1.4882, Train Acc: 0.4113, Val Acc: 0.4593\n",
      "Epoch 080, Loss: 1.5059, Train Acc: 0.4420, Val Acc: 0.5086\n",
      "Epoch 090, Loss: 1.5063, Train Acc: 0.4320, Val Acc: 0.4938\n",
      "Epoch 100, Loss: 1.4943, Train Acc: 0.4325, Val Acc: 0.4864\n",
      "Epoch 110, Loss: 1.4406, Train Acc: 0.4341, Val Acc: 0.4889\n",
      "Epoch 120, Loss: 1.4307, Train Acc: 0.4362, Val Acc: 0.4593\n",
      "Epoch 130, Loss: 1.4356, Train Acc: 0.4579, Val Acc: 0.4642\n",
      "Epoch 140, Loss: 1.4528, Train Acc: 0.4537, Val Acc: 0.4716\n",
      "Test Accuracy: 0.4483\n",
      "Evaluating parameters: (128, 2, 0.2, 0.001, 50)\n",
      "Epoch 000, Loss: 2.8875, Train Acc: 0.2080, Val Acc: 0.2123\n",
      "Epoch 010, Loss: 1.4500, Train Acc: 0.4320, Val Acc: 0.4741\n",
      "Epoch 020, Loss: 1.0186, Train Acc: 0.7231, Val Acc: 0.7753\n",
      "Epoch 030, Loss: 0.7508, Train Acc: 0.8052, Val Acc: 0.8321\n",
      "Epoch 040, Loss: 0.7184, Train Acc: 0.7692, Val Acc: 0.7531\n",
      "Test Accuracy: 0.8030\n",
      "Evaluating parameters: (32, 2, 0.2, 0.1, 200)\n",
      "Epoch 000, Loss: 2.7812, Train Acc: 0.0736, Val Acc: 0.0741\n",
      "Epoch 010, Loss: 1.7942, Train Acc: 0.2716, Val Acc: 0.2469\n"
     ]
    }
   ],
   "source": [
    "%run main.py"
   ]
  },
  {
   "cell_type": "code",
   "execution_count": null,
   "metadata": {},
   "outputs": [],
   "source": [
    "# Cell 1: Import subprocess\n",
    "import subprocess\n",
    "\n",
    "# Cell 2: Run the main.py script\n",
    "result = subprocess.run(['python', 'main.py'], capture_output=True, text=True)\n",
    "\n",
    "# Cell 3: Print the output\n",
    "print(result.stdout)"
   ]
  }
 ],
 "metadata": {
  "kernelspec": {
   "display_name": "SAGEConv_new",
   "language": "python",
   "name": "python3"
  },
  "language_info": {
   "codemirror_mode": {
    "name": "ipython",
    "version": 3
   },
   "file_extension": ".py",
   "mimetype": "text/x-python",
   "name": "python",
   "nbconvert_exporter": "python",
   "pygments_lexer": "ipython3",
   "version": "3.10.15"
  }
 },
 "nbformat": 4,
 "nbformat_minor": 2
}
